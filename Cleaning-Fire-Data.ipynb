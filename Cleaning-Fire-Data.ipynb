{
 "cells": [
  {
   "cell_type": "code",
   "execution_count": 1,
   "metadata": {},
   "outputs": [],
   "source": [
    "# dependencies\n",
    "import pandas as pd\n",
    "\n",
    "# import the fire data csv\n",
    "fireFile = \"./Data/CA_Fires.csv\"\n",
    "\n",
    "# read the file and store in a data frame\n",
    "fireData = pd.read_csv(fireFile)\n",
    "\n",
    "# see all columns\n",
    "fireData.columns\n",
    "\n",
    "# remove extraneous columns\n",
    "fireData = fireData[[\"incident_name\",\"incident_county\",\"incident_latitude\",\n",
    "            \"incident_longitude\",\"incident_acres_burned\",\"incident_id\",\n",
    "            \"incident_dateonly_created\",\"incident_dateonly_extinguished\"]]\n",
    "\n",
    "# rename the columns\n",
    "fireData = fireData.rename(columns={\"incident_name\":\"Name\",\"incident_county\":\"County\",\n",
    "            \"incident_acres_burned\":\"Acres Burned\",\"incident_latitude\":\"Lat\",\n",
    "            \"incident_longitude\":\"Long\",\"incident_id\":\"ID\",\"incident_dateonly_extinguished\":\n",
    "            \"Date Extinguished\",\"incident_dateonly_created\":\"Date Started\"})\n",
    "\n",
    "# make sure there are no incident repeats then drop ID field\n",
    "fireData.drop_duplicates(subset=[\"ID\"])\n",
    "fireData = fireData[[\"Name\",\"County\",\"Lat\",\"Long\",\"Acres Burned\",\n",
    "                     \"Date Started\",\"Date Extinguished\"]]"
   ]
  },
  {
   "cell_type": "code",
   "execution_count": 2,
   "metadata": {},
   "outputs": [],
   "source": [
    "# create a column that contains the duration of each fire\n",
    "# first convert the date columns to datetime\n",
    "fireData[\"Date Started\"] = pd.to_datetime(fireData[\"Date Started\"])\n",
    "fireData[\"Date Extinguished\"] = pd.to_datetime(fireData[\"Date Extinguished\"])\n",
    "\n",
    "# subtract the two dates\n",
    "fireData[\"Duration (Days)\"] = fireData[\"Date Extinguished\"] - fireData[\"Date Started\"]\n",
    "\n",
    "# convert duration to string and remove \"days\"\n",
    "fireData[\"Duration (Days)\"] = fireData[\"Duration (Days)\"].astype(str)\n",
    "fireData[\"Duration (Days)\"] = fireData[\"Duration (Days)\"].str.replace(\"days\",\"\")\n",
    "\n",
    "# convert NaT to NaN and convert back to float\n",
    "fireData[\"Duration (Days)\"] = fireData[\"Duration (Days)\"].replace([\"NaT\"],\"NaN\")\n",
    "fireData[\"Duration (Days)\"] = fireData[\"Duration (Days)\"].astype(float)\n",
    "\n",
    "# create a column that holds the year of each start date\n",
    "fireData[\"Year\"] = fireData[\"Date Started\"].dt.year\n",
    "\n",
    "# remove the date started and date extinguished columns\n",
    "fireData = fireData[[\"Name\",\"Year\",\"County\",\"Lat\",\"Long\",\"Acres Burned\",\"Duration (Days)\"]]"
   ]
  },
  {
   "cell_type": "code",
   "execution_count": 5,
   "metadata": {},
   "outputs": [],
   "source": [
    "# remove any years that aren't 2013-2020\n",
    "fireData = fireData.loc[(fireData[\"Year\"]>=2013)&(fireData[\"Year\"]<=2020),:]\n",
    "\n",
    "# reset the index\n",
    "fireData.reset_index(inplace=True,drop=True)"
   ]
  },
  {
   "cell_type": "code",
   "execution_count": 9,
   "metadata": {},
   "outputs": [],
   "source": [
    "# separate into two dataframes\n",
    "fireDamage = fireData[[\"Name\",\"Year\",\"County\",\"Lat\",\"Long\",\"Acres Burned\"]]\n",
    "fireDuration = fireData[[\"Name\",\"Year\",\"County\",\"Lat\",\"Long\",\"Duration (Days)\"]]\n",
    "\n",
    "# remove any NaNs from each dataframe\n",
    "fireDamage = fireDamage.dropna()\n",
    "fireDuration = fireDuration.dropna()"
   ]
  },
  {
   "cell_type": "code",
   "execution_count": 16,
   "metadata": {},
   "outputs": [
    {
     "ename": "KeyError",
     "evalue": "'Column not found: Duration (Days)'",
     "output_type": "error",
     "traceback": [
      "\u001b[1;31m---------------------------------------------------------------------------\u001b[0m",
      "\u001b[1;31mKeyError\u001b[0m                                  Traceback (most recent call last)",
      "\u001b[1;32m<ipython-input-16-849026adf4d3>\u001b[0m in \u001b[0;36m<module>\u001b[1;34m\u001b[0m\n\u001b[0;32m      5\u001b[0m \u001b[1;33m\u001b[0m\u001b[0m\n\u001b[0;32m      6\u001b[0m \u001b[0mfireDurationCounty\u001b[0m \u001b[1;33m=\u001b[0m \u001b[0mfireDamage\u001b[0m\u001b[1;33m.\u001b[0m\u001b[0mgroupby\u001b[0m\u001b[1;33m(\u001b[0m\u001b[1;33m[\u001b[0m\u001b[1;34m\"Year\"\u001b[0m\u001b[1;33m,\u001b[0m\u001b[1;34m\"County\"\u001b[0m\u001b[1;33m]\u001b[0m\u001b[1;33m)\u001b[0m\u001b[1;33m\u001b[0m\u001b[1;33m\u001b[0m\u001b[0m\n\u001b[1;32m----> 7\u001b[1;33m \u001b[0mfireDurationCounty\u001b[0m \u001b[1;33m=\u001b[0m \u001b[0mfireDurationCounty\u001b[0m\u001b[1;33m[\u001b[0m\u001b[1;34m\"Duration (Days)\"\u001b[0m\u001b[1;33m]\u001b[0m\u001b[1;33m.\u001b[0m\u001b[0msum\u001b[0m\u001b[1;33m(\u001b[0m\u001b[1;33m)\u001b[0m\u001b[1;33m\u001b[0m\u001b[1;33m\u001b[0m\u001b[0m\n\u001b[0m\u001b[0;32m      8\u001b[0m \u001b[0mpd\u001b[0m\u001b[1;33m.\u001b[0m\u001b[0mDataFrame\u001b[0m\u001b[1;33m(\u001b[0m\u001b[0mfireDurationCounty\u001b[0m\u001b[1;33m)\u001b[0m\u001b[1;33m\u001b[0m\u001b[1;33m\u001b[0m\u001b[0m\n",
      "\u001b[1;32m~\\anaconda3\\lib\\site-packages\\pandas\\core\\groupby\\generic.py\u001b[0m in \u001b[0;36m__getitem__\u001b[1;34m(self, key)\u001b[0m\n\u001b[0;32m   1648\u001b[0m                 \u001b[0mstacklevel\u001b[0m\u001b[1;33m=\u001b[0m\u001b[1;36m2\u001b[0m\u001b[1;33m,\u001b[0m\u001b[1;33m\u001b[0m\u001b[1;33m\u001b[0m\u001b[0m\n\u001b[0;32m   1649\u001b[0m             )\n\u001b[1;32m-> 1650\u001b[1;33m         \u001b[1;32mreturn\u001b[0m \u001b[0msuper\u001b[0m\u001b[1;33m(\u001b[0m\u001b[1;33m)\u001b[0m\u001b[1;33m.\u001b[0m\u001b[0m__getitem__\u001b[0m\u001b[1;33m(\u001b[0m\u001b[0mkey\u001b[0m\u001b[1;33m)\u001b[0m\u001b[1;33m\u001b[0m\u001b[1;33m\u001b[0m\u001b[0m\n\u001b[0m\u001b[0;32m   1651\u001b[0m \u001b[1;33m\u001b[0m\u001b[0m\n\u001b[0;32m   1652\u001b[0m     \u001b[1;32mdef\u001b[0m \u001b[0m_gotitem\u001b[0m\u001b[1;33m(\u001b[0m\u001b[0mself\u001b[0m\u001b[1;33m,\u001b[0m \u001b[0mkey\u001b[0m\u001b[1;33m,\u001b[0m \u001b[0mndim\u001b[0m\u001b[1;33m:\u001b[0m \u001b[0mint\u001b[0m\u001b[1;33m,\u001b[0m \u001b[0msubset\u001b[0m\u001b[1;33m=\u001b[0m\u001b[1;32mNone\u001b[0m\u001b[1;33m)\u001b[0m\u001b[1;33m:\u001b[0m\u001b[1;33m\u001b[0m\u001b[1;33m\u001b[0m\u001b[0m\n",
      "\u001b[1;32m~\\anaconda3\\lib\\site-packages\\pandas\\core\\base.py\u001b[0m in \u001b[0;36m__getitem__\u001b[1;34m(self, key)\u001b[0m\n\u001b[0;32m    226\u001b[0m         \u001b[1;32melse\u001b[0m\u001b[1;33m:\u001b[0m\u001b[1;33m\u001b[0m\u001b[1;33m\u001b[0m\u001b[0m\n\u001b[0;32m    227\u001b[0m             \u001b[1;32mif\u001b[0m \u001b[0mkey\u001b[0m \u001b[1;32mnot\u001b[0m \u001b[1;32min\u001b[0m \u001b[0mself\u001b[0m\u001b[1;33m.\u001b[0m\u001b[0mobj\u001b[0m\u001b[1;33m:\u001b[0m\u001b[1;33m\u001b[0m\u001b[1;33m\u001b[0m\u001b[0m\n\u001b[1;32m--> 228\u001b[1;33m                 \u001b[1;32mraise\u001b[0m \u001b[0mKeyError\u001b[0m\u001b[1;33m(\u001b[0m\u001b[1;34mf\"Column not found: {key}\"\u001b[0m\u001b[1;33m)\u001b[0m\u001b[1;33m\u001b[0m\u001b[1;33m\u001b[0m\u001b[0m\n\u001b[0m\u001b[0;32m    229\u001b[0m             \u001b[1;32mreturn\u001b[0m \u001b[0mself\u001b[0m\u001b[1;33m.\u001b[0m\u001b[0m_gotitem\u001b[0m\u001b[1;33m(\u001b[0m\u001b[0mkey\u001b[0m\u001b[1;33m,\u001b[0m \u001b[0mndim\u001b[0m\u001b[1;33m=\u001b[0m\u001b[1;36m1\u001b[0m\u001b[1;33m)\u001b[0m\u001b[1;33m\u001b[0m\u001b[1;33m\u001b[0m\u001b[0m\n\u001b[0;32m    230\u001b[0m \u001b[1;33m\u001b[0m\u001b[0m\n",
      "\u001b[1;31mKeyError\u001b[0m: 'Column not found: Duration (Days)'"
     ]
    }
   ],
   "source": [
    "# groupby year and county and sum for each variable\n",
    "fireDamageCounty = fireDamage.groupby([\"Year\",\"County\"])\n",
    "fireDamageCounty = fireDamageCounty[\"Acres Burned\"].sum()\n",
    "pd.DataFrame(fireDamageCounty)\n",
    "\n",
    "fireDurationCounty = fireDamage.groupby([\"Year\",\"County\"])\n",
    "fireDurationCounty = fireDurationCounty[\"Duration (Days)\"].sum()\n",
    "pd.DataFrame(fireDurationCounty)"
   ]
  },
  {
   "cell_type": "code",
   "execution_count": 13,
   "metadata": {},
   "outputs": [],
   "source": [
    "# export as csvs \n",
    "fireData.to_csv(\"./Clean Data/FireData_Clean.csv\")\n",
    "fireDamage.to_csv(\"./Clean Data/FireDamage_Clean.csv\")\n",
    "fireDamageCounty.to_csv(\"./Clean Data/FireDamageCounty_Clean\")\n",
    "fireDuration.to_csv(\"./Clean Data/FireDuration_Clean.csv\")"
   ]
  }
 ],
 "metadata": {
  "kernelspec": {
   "display_name": "Python 3",
   "language": "python",
   "name": "python3"
  },
  "language_info": {
   "codemirror_mode": {
    "name": "ipython",
    "version": 3
   },
   "file_extension": ".py",
   "mimetype": "text/x-python",
   "name": "python",
   "nbconvert_exporter": "python",
   "pygments_lexer": "ipython3",
   "version": "3.8.5"
  }
 },
 "nbformat": 4,
 "nbformat_minor": 4
}
