{
 "cells": [
  {
   "cell_type": "code",
   "execution_count": 1,
   "metadata": {},
   "outputs": [],
   "source": [
    "# dependencies\n",
    "import pandas as pd\n",
    "\n",
    "# import the fire data csv\n",
    "fireFile = \"./Data/CA_Fires.csv\"\n",
    "\n",
    "# read the file and store in a data frame\n",
    "fireData = pd.read_csv(fireFile)\n",
    "\n",
    "# see all columns\n",
    "fireData.columns\n",
    "\n",
    "# remove extraneous columns\n",
    "fireData = fireData[[\"incident_name\",\"incident_county\",\"incident_latitude\",\n",
    "            \"incident_longitude\",\"incident_acres_burned\",\"incident_id\",\n",
    "            \"incident_dateonly_created\",\"incident_dateonly_extinguished\"]]\n",
    "\n",
    "# rename the columns\n",
    "fireData = fireData.rename(columns={\"incident_name\":\"Name\",\"incident_county\":\"County\",\n",
    "            \"incident_acres_burned\":\"Acres Burned\",\"incident_latitude\":\"Lat\",\n",
    "            \"incident_longitude\":\"Long\",\"incident_id\":\"ID\",\"incident_dateonly_extinguished\":\n",
    "            \"Date Extinguished\",\"incident_dateonly_created\":\"Date Started\"})\n",
    "\n",
    "# make sure there are no incident repeats then drop ID field\n",
    "fireData.drop_duplicates(subset=[\"ID\"])\n",
    "fireData = fireData[[\"Name\",\"County\",\"Lat\",\"Long\",\"Acres Burned\",\n",
    "                     \"Date Started\",\"Date Extinguished\"]]"
   ]
  },
  {
   "cell_type": "code",
   "execution_count": 2,
   "metadata": {},
   "outputs": [],
   "source": [
    "# create a column that contains the duration of each fire\n",
    "# first convert the date columns to datetime\n",
    "fireData[\"Date Started\"] = pd.to_datetime(fireData[\"Date Started\"])\n",
    "fireData[\"Date Extinguished\"] = pd.to_datetime(fireData[\"Date Extinguished\"])\n",
    "\n",
    "# subtract the two dates\n",
    "fireData[\"Duration (Days)\"] = fireData[\"Date Extinguished\"] - fireData[\"Date Started\"]\n",
    "\n",
    "# convert duration to string and remove \"days\"\n",
    "fireData[\"Duration (Days)\"] = fireData[\"Duration (Days)\"].astype(str)\n",
    "fireData[\"Duration (Days)\"] = fireData[\"Duration (Days)\"].str.replace(\"days\",\"\")\n",
    "\n",
    "# convert NaT to NaN and convert back to float\n",
    "fireData[\"Duration (Days)\"] = fireData[\"Duration (Days)\"].replace([\"NaT\"],\"NaN\")\n",
    "fireData[\"Duration (Days)\"] = fireData[\"Duration (Days)\"].astype(float)\n",
    "\n",
    "# create a column that holds the year of each start date\n",
    "fireData[\"Year\"] = fireData[\"Date Started\"].dt.year\n",
    "\n",
    "# remove the date started and date extinguished columns\n",
    "fireData = fireData[[\"Name\",\"Year\",\"County\",\"Lat\",\"Long\",\"Acres Burned\",\"Duration (Days)\"]]"
   ]
  },
  {
   "cell_type": "code",
   "execution_count": 5,
   "metadata": {},
   "outputs": [],
   "source": [
    "# remove any years that aren't 2013-2020\n",
    "fireData = fireData.loc[(fireData[\"Year\"]>=2013)&(fireData[\"Year\"]<=2020),:]\n",
    "\n",
    "# reset the index\n",
    "fireData.reset_index(inplace=True,drop=True)"
   ]
  },
  {
   "cell_type": "code",
   "execution_count": 9,
   "metadata": {},
   "outputs": [],
   "source": [
    "# separate into two dataframes\n",
    "fireDamage = fireData[[\"Name\",\"Year\",\"County\",\"Lat\",\"Long\",\"Acres Burned\"]]\n",
    "fireDuration = fireData[[\"Name\",\"Year\",\"County\",\"Lat\",\"Long\",\"Duration (Days)\"]]\n",
    "\n",
    "# remove any NaNs from each dataframe\n",
    "fireDamage = fireDamage.dropna()\n",
    "fireDuration = fireDuration.dropna()"
   ]
  },
  {
   "cell_type": "code",
   "execution_count": 13,
   "metadata": {},
   "outputs": [],
   "source": [
    "# export as csvs \n",
    "fireData.to_csv(\"./Clean Data/FireData_Clean.csv\")\n",
    "fireDamage.to_csv(\"./Clean Data/FireDamage_Clean.csv\")\n",
    "fireDuration.to_csv(\"./Clean Data/FireDuration_Clean.csv\")"
   ]
  }
 ],
 "metadata": {
  "kernelspec": {
   "display_name": "Python 3",
   "language": "python",
   "name": "python3"
  },
  "language_info": {
   "codemirror_mode": {
    "name": "ipython",
    "version": 3
   },
   "file_extension": ".py",
   "mimetype": "text/x-python",
   "name": "python",
   "nbconvert_exporter": "python",
   "pygments_lexer": "ipython3",
   "version": "3.8.5"
  }
 },
 "nbformat": 4,
 "nbformat_minor": 4
}
