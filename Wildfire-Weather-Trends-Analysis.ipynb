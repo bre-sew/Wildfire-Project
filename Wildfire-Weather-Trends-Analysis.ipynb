{
 "cells": [
  {
   "cell_type": "code",
   "execution_count": 1,
   "metadata": {},
   "outputs": [],
   "source": [
    "# dependencies\n",
    "import pandas as pd\n",
    "import scipy.stats as st\n",
    "\n",
    "# import fire csvs\n",
    "fireDamage = pd.read_csv(\"./Clean Data/FireDamage_Clean.csv\")\n",
    "fireDuration = pd.read_csv(\"./Clean Data/FireDuration_Clean.csv\")\n",
    "\n",
    "# import weather csvs\n",
    "dt32 = pd.read_csv(\"./Clean Data/DT32_Clean.csv\")\n",
    "dx90 = pd.read_csv(\"./Clean Data/DX90_Clean.csv\")\n",
    "emxp = pd.read_csv(\"./Clean Data/EMXP_Clean.csv\")\n",
    "emxt = pd.read_csv(\"./Clean Data/EMXT_Clean.csv\")\n",
    "prcp = pd.read_csv(\"./Clean Data/PRCP_Clean.csv\")\n",
    "tavg = pd.read_csv(\"./Clean Data/TAVG_Clean.csv\")\n",
    "tmax = pd.read_csv(\"./Clean Data/TMAX_Clean.csv\")\n",
    "tmin = pd.read_csv(\"./Clean Data/TMIN_Clean.csv\")"
   ]
  },
  {
   "cell_type": "code",
   "execution_count": null,
   "metadata": {},
   "outputs": [],
   "source": []
  }
 ],
 "metadata": {
  "kernelspec": {
   "display_name": "Python 3",
   "language": "python",
   "name": "python3"
  },
  "language_info": {
   "codemirror_mode": {
    "name": "ipython",
    "version": 3
   },
   "file_extension": ".py",
   "mimetype": "text/x-python",
   "name": "python",
   "nbconvert_exporter": "python",
   "pygments_lexer": "ipython3",
   "version": "3.8.5"
  }
 },
 "nbformat": 4,
 "nbformat_minor": 4
}
